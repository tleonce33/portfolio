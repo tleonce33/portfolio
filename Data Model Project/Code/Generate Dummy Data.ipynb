{
 "cells": [
  {
   "cell_type": "markdown",
   "id": "e801063f-b0c6-4e36-8879-5341e569c568",
   "metadata": {},
   "source": [
    "# Generate Dummy Date using Faker package\n",
    "\n",
    "Reference: https://faker.readthedocs.io/en/master/"
   ]
  },
  {
   "cell_type": "code",
   "execution_count": 6,
   "id": "ea496d40-f41c-4301-864e-b16460a3728a",
   "metadata": {},
   "outputs": [
    {
     "name": "stdout",
     "output_type": "stream",
     "text": [
      "{'Salutation': 'Mr.', 'First Name': 'Jose', 'Middle Name': 'George', 'Last Name': 'Pennington', 'Suffix': 'DDS', 'Gender': 'F', 'Professional Id': '64100876'}\n"
     ]
    }
   ],
   "source": [
    "##############################\n",
    "# Create Persons File\n",
    "##############################\n",
    "\n",
    "#Import libraries and initialize\n",
    "from faker import Faker\n",
    "import pandas as pd\n",
    "import csv\n",
    "\n",
    "fake = Faker()\n",
    "\n",
    "#Export 'fakedata' to \"Person.csv\" file\n",
    "with open('Person.csv', 'w', newline = '') as csvfile:\n",
    "    headernames = ['Salutation','First Name', 'Middle Name', 'Last Name', 'Suffix', 'Gender', 'Professional Id']\n",
    "    writer = csv.DictWriter(csvfile, fieldnames=headernames)\n",
    "    writer.writeheader()\n",
    "\n",
    "    #Create Fake 'Person' Data and Write to CSV File Row\n",
    "    for _ in range(500):\n",
    "        fake_person_data = {'Salutation': fake.prefix(),\n",
    "                            'First Name': fake.first_name(),\n",
    "                            'Middle Name': fake.first_name(),\n",
    "                            'Last Name': fake.last_name(),\n",
    "                            'Suffix': fake.suffix(),\n",
    "                            'Gender': fake.passport_gender(),\n",
    "                            'Professional Id': fake.ean8()\n",
    "                            }\n",
    "        writer.writerow(fake_person_data)\n",
    "\n",
    "print(fake_person_data)"
   ]
  },
  {
   "cell_type": "code",
   "execution_count": 1,
   "id": "bc729999-2ce3-4e88-9a5d-5e658e575c31",
   "metadata": {},
   "outputs": [
    {
     "name": "stdout",
     "output_type": "stream",
     "text": [
      "{'Company Name': 'Shepherd, Sandoval and Trevino'}\n"
     ]
    }
   ],
   "source": [
    "##############################\n",
    "# Create Company File\n",
    "##############################\n",
    "\n",
    "#Import libraries and initialize\n",
    "from faker import Faker\n",
    "import pandas as pd\n",
    "import csv\n",
    "\n",
    "fake = Faker()\n",
    "\n",
    "#Export 'fakedata' to \"Person.csv\" file\n",
    "with open('Company.csv', 'w', newline = '') as csvfile:\n",
    "    headernames = ['Company Name']\n",
    "    writer = csv.DictWriter(csvfile, fieldnames=headernames)\n",
    "    writer.writeheader()\n",
    "\n",
    "    #Create Fake 'Company' Data\n",
    "    for x in range(500):\n",
    "        fake_company_data = {'Company Name': fake.company()\n",
    "                             }\n",
    "        writer.writerow(fake_company_data)\n",
    "\n",
    "print(fake_company_data)"
   ]
  },
  {
   "cell_type": "code",
   "execution_count": 2,
   "id": "3825603b-cbb0-4541-907a-a7f005955eef",
   "metadata": {},
   "outputs": [
    {
     "name": "stdout",
     "output_type": "stream",
     "text": [
      "{'job': 'Nurse, adult', 'company': 'Baker LLC', 'ssn': '568-53-8327', 'residence': '268 Andrea Orchard Apt. 887\\nLindaburgh, WV 44363', 'current_location': (Decimal('3.865797'), Decimal('-84.056877')), 'blood_group': 'AB+', 'website': ['https://www.hernandez-sanders.biz/', 'http://garcia.com/'], 'username': 'kdaniel', 'name': 'Michele Townsend', 'sex': 'F', 'address': '2113 Turner Valley Suite 545\\nAllenchester, IA 36753', 'mail': 'kevin47@yahoo.com', 'birthdate': datetime.date(1919, 3, 27)}\n"
     ]
    }
   ],
   "source": [
    "##############################\n",
    "# Create Profiler File\n",
    "##############################\n",
    "\n",
    "#Import libraries and initialize\n",
    "from faker import Faker\n",
    "import pandas as pd\n",
    "import csv\n",
    "\n",
    "fake = Faker()\n",
    "\n",
    "#Export 'fakedata' to \"Person.csv\" file\n",
    "with open('User.csv', 'w', newline = '') as csvfile:\n",
    "    fake_profile_data = fake.profile()\n",
    "    headernames = fake_profile_data.keys()\n",
    "    writer = csv.DictWriter(csvfile, fieldnames=headernames)\n",
    "    writer.writeheader()\n",
    "\n",
    "    #Create Fake 'Profile' Data\n",
    "    for x in range(500):\n",
    "        fake_profile_data = fake.profile()\n",
    "        writer.writerow(fake_profile_data)\n",
    "\n",
    "print(fake_profile_data)"
   ]
  },
  {
   "cell_type": "code",
   "execution_count": 1,
   "id": "d03cfece-c6fd-419f-94fe-45ba9217de79",
   "metadata": {},
   "outputs": [
    {
     "name": "stdout",
     "output_type": "stream",
     "text": [
      "{'Address Line 1': '7958 Phillips Tunnel', 'Address Line 2': 'Apt. 619', 'City': 'Lake James', 'State': 'Alabama', 'Postal Code': '56467', 'Country': 'US'}\n"
     ]
    }
   ],
   "source": [
    "##############################\n",
    "# Create Address File\n",
    "##############################\n",
    "\n",
    "#Import libraries and initialize\n",
    "from faker import Faker\n",
    "import pandas as pd\n",
    "import csv\n",
    "\n",
    "fake = Faker()\n",
    "\n",
    "#Export 'fakedata' to \"Address.csv\" file\n",
    "with open('Address.csv', 'w', newline = '') as csvfile:\n",
    "    headernames = ['Address Line 1', 'Address Line 2','City', 'State', 'Postal Code', 'Country']\n",
    "    writer = csv.DictWriter(csvfile, fieldnames=headernames)\n",
    "    writer.writeheader()\n",
    "\n",
    "    #Create Fake 'Person' Data and Write to CSV File Row\n",
    "    for _ in range(500):\n",
    "        fake_address_data = {'Address Line 1': fake.street_address(),\n",
    "                            'Address Line 2': fake.secondary_address(),\n",
    "                            'City': fake.city(),\n",
    "                            'State': fake.state(),\n",
    "                            'Postal Code': fake.zipcode(),\n",
    "                            'Country': fake.current_country_code()\n",
    "                            }\n",
    "        writer.writerow(fake_address_data)\n",
    "\n",
    "print(fake_address_data)"
   ]
  },
  {
   "cell_type": "code",
   "execution_count": 4,
   "id": "8f5a5927-a53a-480f-bb20-bd16018bb1f3",
   "metadata": {},
   "outputs": [
    {
     "data": {
      "text/plain": [
       "'Municipal Matters'"
      ]
     },
     "execution_count": 4,
     "metadata": {},
     "output_type": "execute_result"
    }
   ],
   "source": [
    "#How to create a Dynamic Provider for Matter Types\n",
    "from faker import Faker\n",
    "from faker.providers import DynamicProvider\n",
    "\n",
    "matter_types_provider = DynamicProvider(\n",
    "     provider_name=\"matter_types\",\n",
    "     elements=['Administrative','Administrative Law','Arbitrations & Mediations','Asbestos Cases',\n",
    "               'Bankruptcy','Business','Criminal','Workers Comp Defense','Elder Law','Employment Law',\n",
    "               'Environmental Law','Employment Plaintiff','Entertainment-Sports Law','Insurance Defense Flat Fee',\n",
    "               'Family Law','General Matters','Health Law','Insurance Coverage','Insurance Defense',\n",
    "               'International Law','Immigration Law','Intake','Insurance Subrogation','Workers Compensation Court System',\n",
    "               'General Litigation','Marketing','Municipal Matters','Plaintiff Hourly','Personal Injury',\n",
    "               'Public Interest Law','Real Estate','Social Security','Tax Law','Workers Compensation','Wills, Estates, Probate'],\n",
    ")\n",
    "\n",
    "fake = Faker()\n",
    "\n",
    "# then add new provider to faker instance\n",
    "fake.add_provider(matter_types_provider)\n",
    "\n",
    "# now you can use:\n",
    "fake.matter_types()"
   ]
  }
 ],
 "metadata": {
  "kernelspec": {
   "display_name": "Python 3 (ipykernel)",
   "language": "python",
   "name": "python3"
  },
  "language_info": {
   "codemirror_mode": {
    "name": "ipython",
    "version": 3
   },
   "file_extension": ".py",
   "mimetype": "text/x-python",
   "name": "python",
   "nbconvert_exporter": "python",
   "pygments_lexer": "ipython3",
   "version": "3.11.9"
  }
 },
 "nbformat": 4,
 "nbformat_minor": 5
}
